{
 "cells": [
  {
   "cell_type": "code",
   "execution_count": 54,
   "metadata": {
    "collapsed": true
   },
   "outputs": [],
   "source": [
    "import pandas as pd\n",
    "import urllib\n",
    "import time\n",
    "import os\n",
    "import arcpy"
   ]
  },
  {
   "cell_type": "code",
   "execution_count": 45,
   "metadata": {
    "collapsed": false
   },
   "outputs": [
    {
     "name": "stderr",
     "output_type": "stream",
     "text": [
      "C:\\Anaconda3\\lib\\site-packages\\pandas\\io\\parsers.py:1170: DtypeWarning: Columns (10) have mixed types. Specify dtype option on import or set low_memory=False.\n",
      "  data = self._reader.read(nrows)\n"
     ]
    }
   ],
   "source": [
    "parcely = []\n",
    "\n",
    "vsechna_uzemi = pd.read_csv('data/sumarized.csv')\n",
    "\n",
    "for row in vsechna_uzemi.iterrows():\n",
    "    uzemi = row[1]['parcela_id'].split('_')[0]\n",
    "    if uzemi not in parcely:\n",
    "        parcely.append(uzemi)\n",
    "    else:\n",
    "        continue"
   ]
  },
  {
   "cell_type": "code",
   "execution_count": 41,
   "metadata": {
    "collapsed": false
   },
   "outputs": [
    {
     "name": "stdout",
     "output_type": "stream",
     "text": [
      "773778\n"
     ]
    }
   ],
   "source": [
    "for ku in parcely:\n",
    "    print(ku)\n",
    "    try:\n",
    "        urllib.request.urlretrieve('http://services.cuzk.cz/gml/inspire/cp/epsg-5514/' + ku + '.zip', 'scratch/gml/' + ku + '.zip')\n",
    "        parcely.remove(ku)\n",
    "    except:\n",
    "        time.sleep(2)\n",
    "        urllib.request.urlretrieve('http://services.cuzk.cz/gml/inspire/cp/epsg-5514/' + ku + '.zip', 'scratch/gml/' + ku + '.zip')\n",
    "        parcely.remove(ku)"
   ]
  }
 ],
 "metadata": {
  "kernelspec": {
   "display_name": "Python 3",
   "language": "python",
   "name": "python3"
  },
  "language_info": {
   "codemirror_mode": {
    "name": "ipython",
    "version": 3
   },
   "file_extension": ".py",
   "mimetype": "text/x-python",
   "name": "python",
   "nbconvert_exporter": "python",
   "pygments_lexer": "ipython3",
   "version": "3.4.3"
  }
 },
 "nbformat": 4,
 "nbformat_minor": 0
}
