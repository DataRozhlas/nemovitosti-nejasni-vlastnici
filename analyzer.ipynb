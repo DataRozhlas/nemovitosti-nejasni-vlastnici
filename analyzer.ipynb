{
 "cells": [
  {
   "cell_type": "code",
   "execution_count": 1,
   "metadata": {
    "collapsed": true
   },
   "outputs": [],
   "source": [
    "import pandas as pd\n",
    "import numpy as np"
   ]
  },
  {
   "cell_type": "code",
   "execution_count": 2,
   "metadata": {
    "collapsed": true
   },
   "outputs": [],
   "source": [
    "data = pd.read_excel('data/ceska-republika.xlsx')"
   ]
  },
  {
   "cell_type": "code",
   "execution_count": 71,
   "metadata": {
    "collapsed": true
   },
   "outputs": [],
   "source": [
    "def parcelator(line):\n",
    "    ku = line.split(',')[0].split(' ')[-1]\n",
    "    kc = line.split('č. ')[1].split('/')[0]\n",
    "    try:\n",
    "        pc = '_' + line.split('č. ')[1].split('/')[1]\n",
    "    except:\n",
    "        pc = ''\n",
    "    return ku + '_' + kc + pc"
   ]
  },
  {
   "cell_type": "code",
   "execution_count": 72,
   "metadata": {
    "collapsed": false
   },
   "outputs": [],
   "source": [
    "#pridani id\n",
    "data['parcela_id'] = data['Parcela (formátováno)'].apply(lambda x: parcelator(x))"
   ]
  },
  {
   "cell_type": "code",
   "execution_count": 73,
   "metadata": {
    "collapsed": false
   },
   "outputs": [],
   "source": [
    "out = {}\n",
    "\n",
    "for row in data.iterrows():\n",
    "    parcela = row[1]['parcela_id']\n",
    "    if (parcela not in out):\n",
    "        out[parcela] = {'kraj': row[1]['Název kraje'], 'okres': row[1]['Název okresu'], 'obec': row[1]['Název obce'], 'ku_nazev': row[1]['Název k.ú.'], 'vymera': row[1]['Parcela - výměra'], 'pozemek_vyuziti': row[1]['Název způsobu využití pozemku'], 'stavba_vyuziti': row[1]['Stavba - název způsobu využití'], 'podil_citatel': 0, 'podil_jmenovatel': 0}\n",
    "    try:\n",
    "        citatel = int(row[1]['Podíl čitatel'])\n",
    "        jmenovatel = int(row[1]['Podíl jmenovatel'])\n",
    "        \n",
    "        out[parcela]['podil_citatel'] += citatel \n",
    "        out[parcela]['podil_jmenovatel'] += jmenovatel\n",
    "    except:\n",
    "        continue"
   ]
  },
  {
   "cell_type": "code",
   "execution_count": 74,
   "metadata": {
    "collapsed": false
   },
   "outputs": [],
   "source": [
    "sumarized = pd.DataFrame.from_dict(out, orient='index').reset_index().rename(columns={'index': 'parcela_id'})"
   ]
  },
  {
   "cell_type": "code",
   "execution_count": 75,
   "metadata": {
    "collapsed": false
   },
   "outputs": [],
   "source": [
    "sumarized.to_csv('data/sumarized.csv', encoding='utf-8')"
   ]
  },
  {
   "cell_type": "code",
   "execution_count": 3,
   "metadata": {
    "collapsed": false
   },
   "outputs": [
    {
     "name": "stderr",
     "output_type": "stream",
     "text": [
      "C:\\Anaconda3\\lib\\site-packages\\pandas\\io\\parsers.py:1170: DtypeWarning: Columns (10) have mixed types. Specify dtype option on import or set low_memory=False.\n",
      "  data = self._reader.read(nrows)\n"
     ]
    }
   ],
   "source": [
    "sumarized = pd.read_csv('data/sumarized.csvized.csv')"
   ]
  },
  {
   "cell_type": "code",
   "execution_count": 7,
   "metadata": {
    "collapsed": false
   },
   "outputs": [
    {
     "data": {
      "text/html": [
       "<div>\n",
       "<table border=\"1\" class=\"dataframe\">\n",
       "  <thead>\n",
       "    <tr style=\"text-align: right;\">\n",
       "      <th></th>\n",
       "      <th>Unnamed: 0</th>\n",
       "      <th>parcela_id</th>\n",
       "      <th>vymera</th>\n",
       "      <th>stavba_vyuziti</th>\n",
       "      <th>ku_nazev</th>\n",
       "      <th>obec</th>\n",
       "      <th>podil_citatel</th>\n",
       "      <th>okres</th>\n",
       "      <th>pozemek_vyuziti</th>\n",
       "      <th>kraj</th>\n",
       "      <th>podil_jmenovatel</th>\n",
       "    </tr>\n",
       "  </thead>\n",
       "  <tbody>\n",
       "    <tr>\n",
       "      <th>0</th>\n",
       "      <td>0</td>\n",
       "      <td>600041_104_5</td>\n",
       "      <td>51</td>\n",
       "      <td>NaN</td>\n",
       "      <td>Adamov</td>\n",
       "      <td>Adamov</td>\n",
       "      <td>1</td>\n",
       "      <td>Blansko</td>\n",
       "      <td>jiná plocha</td>\n",
       "      <td>Jihomoravský</td>\n",
       "      <td>2</td>\n",
       "    </tr>\n",
       "    <tr>\n",
       "      <th>1</th>\n",
       "      <td>1</td>\n",
       "      <td>600041_374_8</td>\n",
       "      <td>156</td>\n",
       "      <td>NaN</td>\n",
       "      <td>Adamov</td>\n",
       "      <td>Adamov</td>\n",
       "      <td>3</td>\n",
       "      <td>Blansko</td>\n",
       "      <td>ostatní komunikace</td>\n",
       "      <td>Jihomoravský</td>\n",
       "      <td>12</td>\n",
       "    </tr>\n",
       "    <tr>\n",
       "      <th>2</th>\n",
       "      <td>2</td>\n",
       "      <td>600041_476</td>\n",
       "      <td>347</td>\n",
       "      <td>NaN</td>\n",
       "      <td>Adamov</td>\n",
       "      <td>Adamov</td>\n",
       "      <td>1</td>\n",
       "      <td>Blansko</td>\n",
       "      <td>NaN</td>\n",
       "      <td>Jihomoravský</td>\n",
       "      <td>3</td>\n",
       "    </tr>\n",
       "    <tr>\n",
       "      <th>3</th>\n",
       "      <td>3</td>\n",
       "      <td>600041_496</td>\n",
       "      <td>1733</td>\n",
       "      <td>NaN</td>\n",
       "      <td>Adamov</td>\n",
       "      <td>Adamov</td>\n",
       "      <td>1</td>\n",
       "      <td>Blansko</td>\n",
       "      <td>NaN</td>\n",
       "      <td>Jihomoravský</td>\n",
       "      <td>1</td>\n",
       "    </tr>\n",
       "    <tr>\n",
       "      <th>4</th>\n",
       "      <td>4</td>\n",
       "      <td>600041_497</td>\n",
       "      <td>373</td>\n",
       "      <td>NaN</td>\n",
       "      <td>Adamov</td>\n",
       "      <td>Adamov</td>\n",
       "      <td>1</td>\n",
       "      <td>Blansko</td>\n",
       "      <td>NaN</td>\n",
       "      <td>Jihomoravský</td>\n",
       "      <td>1</td>\n",
       "    </tr>\n",
       "  </tbody>\n",
       "</table>\n",
       "</div>"
      ],
      "text/plain": [
       "   Unnamed: 0    parcela_id  vymera stavba_vyuziti ku_nazev    obec  \\\n",
       "0           0  600041_104_5      51            NaN   Adamov  Adamov   \n",
       "1           1  600041_374_8     156            NaN   Adamov  Adamov   \n",
       "2           2    600041_476     347            NaN   Adamov  Adamov   \n",
       "3           3    600041_496    1733            NaN   Adamov  Adamov   \n",
       "4           4    600041_497     373            NaN   Adamov  Adamov   \n",
       "\n",
       "   podil_citatel    okres     pozemek_vyuziti          kraj podil_jmenovatel  \n",
       "0              1  Blansko         jiná plocha  Jihomoravský                2  \n",
       "1              3  Blansko  ostatní komunikace  Jihomoravský               12  \n",
       "2              1  Blansko                 NaN  Jihomoravský                3  \n",
       "3              1  Blansko                 NaN  Jihomoravský                1  \n",
       "4              1  Blansko                 NaN  Jihomoravský                1  "
      ]
     },
     "execution_count": 7,
     "metadata": {},
     "output_type": "execute_result"
    }
   ],
   "source": [
    "sumarized.head()"
   ]
  },
  {
   "cell_type": "code",
   "execution_count": 11,
   "metadata": {
    "collapsed": false
   },
   "outputs": [
    {
     "data": {
      "text/plain": [
       "238446"
      ]
     },
     "execution_count": 11,
     "metadata": {},
     "output_type": "execute_result"
    }
   ],
   "source": [
    "len(sumarized)"
   ]
  },
  {
   "cell_type": "code",
   "execution_count": 15,
   "metadata": {
    "collapsed": false
   },
   "outputs": [
    {
     "data": {
      "text/plain": [
       "stavba pro rodinnou rekreaci                              1026\n",
       "garáž                                                     1020\n",
       "jiná stavba                                                930\n",
       "objekt k bydlení                                           684\n",
       "zemědělská stavba                                          441\n",
       "rodinný dům                                                343\n",
       "objekt občanské vybavenosti                                157\n",
       "stavba občanského vybavení                                 125\n",
       "stavba technického vybavení                                107\n",
       "stavba pro výrobu a skladování                              27\n",
       "průmyslový objekt                                           25\n",
       "zemědělská usedlost                                         16\n",
       "stavba pro dopravu                                          15\n",
       "objekt lesního hospodářství                                  5\n",
       "víceúčelová stavba                                           4\n",
       "bytový dům                                                   4\n",
       "stavba pro obchod                                            2\n",
       "stavba ubytovacího zařízení                                  2\n",
       "hráz ohrazující umělou vodní nádrž                           2\n",
       "stavba pro administrativu                                    2\n",
       "jez                                                          1\n",
       "hráz k ochraně nemovitostí před zaplavením při povodni       1\n",
       "dtype: int64"
      ]
     },
     "execution_count": 15,
     "metadata": {},
     "output_type": "execute_result"
    }
   ],
   "source": [
    "sumarized[sumarized.podil_citatel == sumarized.podil_jmenovatel].stavba_vyuziti.value_counts()"
   ]
  },
  {
   "cell_type": "code",
   "execution_count": 76,
   "metadata": {
    "collapsed": false
   },
   "outputs": [
    {
     "data": {
      "text/plain": [
       "Název druhu pozemku\n",
       "chmelnice                        835800\n",
       "lesní pozemek                 117448765\n",
       "orná půda                     276207352\n",
       "ostatní plocha                 26565186\n",
       "ovocný sad                      4343641\n",
       "trvalý travní porost           58487359\n",
       "vinice                          3434996\n",
       "vodní plocha                    6072753\n",
       "zahrada                         3907585\n",
       "zastavěná plocha a nádvoří      2435991\n",
       "Name: Parcela - výměra, dtype: int64"
      ]
     },
     "execution_count": 76,
     "metadata": {},
     "output_type": "execute_result"
    }
   ],
   "source": [
    "data.drop_duplicates(subset=['Parcela (formátováno)']).groupby('Název druhu pozemku')['Parcela - výměra'].sum()"
   ]
  },
  {
   "cell_type": "code",
   "execution_count": 77,
   "metadata": {
    "collapsed": false
   },
   "outputs": [
    {
     "data": {
      "text/plain": [
       "objekt k bydlení                                          1646\n",
       "stavba pro rodinnou rekreaci                              1513\n",
       "jiná stavba                                               1426\n",
       "garáž                                                     1415\n",
       "rodinný dům                                                908\n",
       "zemědělská stavba                                          695\n",
       "objekt občanské vybavenosti                                241\n",
       "stavba občanského vybavení                                 176\n",
       "stavba technického vybavení                                156\n",
       "bytový dům                                                  74\n",
       "zemědělská usedlost                                         49\n",
       "stavba pro výrobu a skladování                              32\n",
       "průmyslový objekt                                           30\n",
       "stavba pro dopravu                                          18\n",
       "víceúčelová stavba                                           8\n",
       "objekt lesního hospodářství                                  6\n",
       "stavba ubytovacího zařízení                                  4\n",
       "stavba pro administrativu                                    2\n",
       "stavba pro obchod                                            2\n",
       "hráz ohrazující umělou vodní nádrž                           2\n",
       "stavba pro shromažďování většího počtu osob                  1\n",
       "jez                                                          1\n",
       "hráz k ochraně nemovitostí před zaplavením při povodni       1\n",
       "dtype: int64"
      ]
     },
     "execution_count": 77,
     "metadata": {},
     "output_type": "execute_result"
    }
   ],
   "source": [
    "data.drop_duplicates(subset=['Stavba (formátováno)'])['Stavba - název způsobu využití'].value_counts()"
   ]
  }
 ],
 "metadata": {
  "kernelspec": {
   "display_name": "Python 3",
   "language": "python",
   "name": "python3"
  },
  "language_info": {
   "codemirror_mode": {
    "name": "ipython",
    "version": 3
   },
   "file_extension": ".py",
   "mimetype": "text/x-python",
   "name": "python",
   "nbconvert_exporter": "python",
   "pygments_lexer": "ipython3",
   "version": "3.4.3"
  }
 },
 "nbformat": 4,
 "nbformat_minor": 0
}
