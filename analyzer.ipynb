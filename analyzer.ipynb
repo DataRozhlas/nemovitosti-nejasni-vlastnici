{
 "cells": [
  {
   "cell_type": "code",
   "execution_count": 69,
   "metadata": {
    "collapsed": true
   },
   "outputs": [],
   "source": [
    "import pandas as pd\n",
    "import numpy as np"
   ]
  },
  {
   "cell_type": "code",
   "execution_count": 70,
   "metadata": {
    "collapsed": true
   },
   "outputs": [],
   "source": [
    "data = pd.read_excel('data/ceska-republika.xlsx')"
   ]
  },
  {
   "cell_type": "code",
   "execution_count": 71,
   "metadata": {
    "collapsed": true
   },
   "outputs": [],
   "source": [
    "def parcelator(line):\n",
    "    ku = line.split(',')[0].split(' ')[-1]\n",
    "    kc = line.split('č. ')[1].split('/')[0]\n",
    "    try:\n",
    "        pc = '_' + line.split('č. ')[1].split('/')[1]\n",
    "    except:\n",
    "        pc = ''\n",
    "    return ku + '_' + kc + pc"
   ]
  },
  {
   "cell_type": "code",
   "execution_count": 72,
   "metadata": {
    "collapsed": false
   },
   "outputs": [],
   "source": [
    "#pridani id\n",
    "data['parcela_id'] = data['Parcela (formátováno)'].apply(lambda x: parcelator(x))"
   ]
  },
  {
   "cell_type": "code",
   "execution_count": 73,
   "metadata": {
    "collapsed": false
   },
   "outputs": [],
   "source": [
    "out = {}\n",
    "\n",
    "for row in data.iterrows():\n",
    "    parcela = row[1]['parcela_id']\n",
    "    if (parcela not in out):\n",
    "        out[parcela] = {'kraj': row[1]['Název kraje'], 'okres': row[1]['Název okresu'], 'obec': row[1]['Název obce'], 'ku_nazev': row[1]['Název k.ú.'], 'vymera': row[1]['Parcela - výměra'], 'pozemek_vyuziti': row[1]['Název způsobu využití pozemku'], 'stavba_vyuziti': row[1]['Stavba - název způsobu využití'], 'podil_citatel': 0, 'podil_jmenovatel': 0}\n",
    "    try:\n",
    "        citatel = int(row[1]['Podíl čitatel'])\n",
    "        jmenovatel = int(row[1]['Podíl jmenovatel'])\n",
    "        \n",
    "        out[parcela]['podil_citatel'] += citatel \n",
    "        out[parcela]['podil_jmenovatel'] += jmenovatel\n",
    "    except:\n",
    "        continue"
   ]
  },
  {
   "cell_type": "code",
   "execution_count": 74,
   "metadata": {
    "collapsed": false
   },
   "outputs": [],
   "source": [
    "sumarized = pd.DataFrame.from_dict(out, orient='index').reset_index().rename(columns={'index': 'parcela_id'})"
   ]
  },
  {
   "cell_type": "code",
   "execution_count": 75,
   "metadata": {
    "collapsed": false
   },
   "outputs": [],
   "source": [
    "sumarized.to_csv('data/sumarized.csv', encoding='utf-8')"
   ]
  },
  {
   "cell_type": "code",
   "execution_count": 76,
   "metadata": {
    "collapsed": false
   },
   "outputs": [
    {
     "data": {
      "text/plain": [
       "Název druhu pozemku\n",
       "chmelnice                        835800\n",
       "lesní pozemek                 117448765\n",
       "orná půda                     276207352\n",
       "ostatní plocha                 26565186\n",
       "ovocný sad                      4343641\n",
       "trvalý travní porost           58487359\n",
       "vinice                          3434996\n",
       "vodní plocha                    6072753\n",
       "zahrada                         3907585\n",
       "zastavěná plocha a nádvoří      2435991\n",
       "Name: Parcela - výměra, dtype: int64"
      ]
     },
     "execution_count": 76,
     "metadata": {},
     "output_type": "execute_result"
    }
   ],
   "source": [
    "data.drop_duplicates(subset=['Parcela (formátováno)']).groupby('Název druhu pozemku')['Parcela - výměra'].sum()"
   ]
  },
  {
   "cell_type": "code",
   "execution_count": 77,
   "metadata": {
    "collapsed": false
   },
   "outputs": [
    {
     "data": {
      "text/plain": [
       "objekt k bydlení                                          1646\n",
       "stavba pro rodinnou rekreaci                              1513\n",
       "jiná stavba                                               1426\n",
       "garáž                                                     1415\n",
       "rodinný dům                                                908\n",
       "zemědělská stavba                                          695\n",
       "objekt občanské vybavenosti                                241\n",
       "stavba občanského vybavení                                 176\n",
       "stavba technického vybavení                                156\n",
       "bytový dům                                                  74\n",
       "zemědělská usedlost                                         49\n",
       "stavba pro výrobu a skladování                              32\n",
       "průmyslový objekt                                           30\n",
       "stavba pro dopravu                                          18\n",
       "víceúčelová stavba                                           8\n",
       "objekt lesního hospodářství                                  6\n",
       "stavba ubytovacího zařízení                                  4\n",
       "stavba pro administrativu                                    2\n",
       "stavba pro obchod                                            2\n",
       "hráz ohrazující umělou vodní nádrž                           2\n",
       "stavba pro shromažďování většího počtu osob                  1\n",
       "jez                                                          1\n",
       "hráz k ochraně nemovitostí před zaplavením při povodni       1\n",
       "dtype: int64"
      ]
     },
     "execution_count": 77,
     "metadata": {},
     "output_type": "execute_result"
    }
   ],
   "source": [
    "data.drop_duplicates(subset=['Stavba (formátováno)'])['Stavba - název způsobu využití'].value_counts()"
   ]
  }
 ],
 "metadata": {
  "kernelspec": {
   "display_name": "Python 3",
   "language": "python",
   "name": "python3"
  },
  "language_info": {
   "codemirror_mode": {
    "name": "ipython",
    "version": 3
   },
   "file_extension": ".py",
   "mimetype": "text/x-python",
   "name": "python",
   "nbconvert_exporter": "python",
   "pygments_lexer": "ipython3",
   "version": "3.4.3"
  }
 },
 "nbformat": 4,
 "nbformat_minor": 0
}
